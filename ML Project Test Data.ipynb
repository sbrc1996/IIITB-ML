{
 "cells": [
  {
   "cell_type": "markdown",
   "metadata": {},
   "source": [
    "## IMPORTING ESSENTIAL LIBARARIES"
   ]
  },
  {
   "cell_type": "code",
   "execution_count": null,
   "metadata": {},
   "outputs": [],
   "source": [
    "print('Importing Essential Libraries...')\n",
    "\n",
    "import pandas as pd\n",
    "import numpy as np\n",
    "import seaborn as sns\n",
    "import matplotlib.pyplot as plt\n",
    "import warnings\n",
    "import os\n",
    "import sklearn\n",
    "%matplotlib inline\n",
    "\n",
    "print('Done!!!')"
   ]
  },
  {
   "cell_type": "markdown",
   "metadata": {},
   "source": [
    "## Importing classes from sklearn "
   ]
  },
  {
   "cell_type": "code",
   "execution_count": null,
   "metadata": {},
   "outputs": [],
   "source": [
    "#Importing the sklean classes\n",
    "\n",
    "\n",
    "from sklearn.linear_model import Lasso\n",
    "from sklearn.feature_selection import SelectFromModel\n",
    "\n"
   ]
  },
  {
   "cell_type": "code",
   "execution_count": null,
   "metadata": {},
   "outputs": [],
   "source": [
    "pd.options.display.max_columns = 500"
   ]
  },
  {
   "cell_type": "markdown",
   "metadata": {},
   "source": [
    "## Reading the data"
   ]
  },
  {
   "cell_type": "code",
   "execution_count": null,
   "metadata": {},
   "outputs": [],
   "source": [
    "print('Loading the data.....')\n",
    "df = pd.read_csv('./Data/test_data.csv')\n",
    "print('Done!!!')"
   ]
  },
  {
   "cell_type": "code",
   "execution_count": null,
   "metadata": {},
   "outputs": [],
   "source": [
    "print('The first 5 rows are: ')\n",
    "df.head()"
   ]
  },
  {
   "cell_type": "code",
   "execution_count": null,
   "metadata": {},
   "outputs": [],
   "source": [
    "print('The data has the following information: ')\n",
    "df.info()"
   ]
  },
  {
   "cell_type": "code",
   "execution_count": null,
   "metadata": {},
   "outputs": [],
   "source": [
    "print('The shape of the dataframe is:- Rows: ',df.shape[0],' Columns: ',df.shape[1])"
   ]
  },
  {
   "cell_type": "markdown",
   "metadata": {},
   "source": [
    "## PREPROCESSING THE ENTIRE DATASET"
   ]
  },
  {
   "cell_type": "code",
   "execution_count": null,
   "metadata": {},
   "outputs": [],
   "source": [
    "%store -r selected_features\n",
    "\n",
    "features = []\n",
    "features = selected_features\n",
    "print(features)\n",
    "print(selected_features)\n",
    "print(len(selected_features))\n",
    "print(len(features))"
   ]
  },
  {
   "cell_type": "code",
   "execution_count": null,
   "metadata": {},
   "outputs": [],
   "source": [
    "for i in df.columns:\n",
    "    if i != \"SK_ID_CURR\" and i not in features :\n",
    "        df.drop(i,axis=1,inplace= True)\n",
    "\n",
    "print(\"The shape of the dataset is: \",df.shape)\n",
    "print(\"The columns are: \",df.columns)"
   ]
  },
  {
   "cell_type": "code",
   "execution_count": null,
   "metadata": {},
   "outputs": [],
   "source": [
    "#Getting the features that have object, float and int type\n",
    "for i in  df.columns:\n",
    "    print(i,\" \",df[i].dtype)"
   ]
  },
  {
   "cell_type": "code",
   "execution_count": null,
   "metadata": {},
   "outputs": [],
   "source": [
    "object_type = []\n",
    "int_type = []\n",
    "float_type = []\n",
    "\n",
    "for i in df.columns:\n",
    "    if df[i].dtype == \"int64\":\n",
    "        int_type.append(i)\n",
    "    elif df[i].dtype == \"object\":\n",
    "        object_type.append(i)\n",
    "    elif df[i].dtype == \"float64\":\n",
    "        float_type.append(i)\n",
    "\n",
    "print(\"OBJECTS: \",object_type)\n",
    "print(\"INTEGERS: \",int_type)\n",
    "print(\"FLOATS: \",float_type)"
   ]
  },
  {
   "cell_type": "code",
   "execution_count": null,
   "metadata": {},
   "outputs": [],
   "source": [
    "#Checking for values that donot make sense in the categorical columns:\n",
    "for i in object_type:\n",
    "    print(\"Column: \",i,\" Values: \",df[i].unique())\n",
    "    \n",
    "df['ORGANIZATION_TYPE'] = df['ORGANIZATION_TYPE'].replace('XNA',np.nan)       "
   ]
  },
  {
   "cell_type": "code",
   "execution_count": null,
   "metadata": {},
   "outputs": [],
   "source": [
    "#Handling the nulls in the entire test dataset.\n",
    "for i in df.columns:\n",
    "    if df[i].dtype == 'object':\n",
    "        df[i] = df[i].fillna(df[i].mode()[0])\n",
    "    if df[i].dtype == 'int64':\n",
    "        df[i] = df[i].fillna(int(df[i].mean()))\n",
    "    if df[i].dtype == 'float64':\n",
    "        df[i] = df[i].fillna(df[i].median())\n",
    "\n"
   ]
  },
  {
   "cell_type": "code",
   "execution_count": null,
   "metadata": {},
   "outputs": [],
   "source": [
    "# Removing the Outliers\n",
    "def drop_outliers_IQR(df,feature):\n",
    "    iqr = 1.5*( np.percentile(df[feature],75) - np.percentile(df[feature],25)   )\n",
    "    # df.drop( df[df[feature] > (iqr + np.percentile(df[feature],75))].index,inplace= True )\n",
    "    # df.drop( df[df[feature] < (np.percentile(df[feature],25) - iqr)].index,inplace= True )\n",
    "\n",
    "    df.loc[df[feature] > (iqr + np.percentile(df[feature],75))] = df[feature].mean()\n",
    "    df.loc[df[feature] < (np.percentile(df[feature],25) - iqr)] = df[feature].mean()\n",
    "    #df[feature] = df[feature].fillna(df[feature].mean())\n",
    "   \n",
    "\n",
    "#Remove Outliers from the non-categorical columns only!!!\n",
    "for i in int_type:\n",
    "    drop_outliers_IQR(df,i)\n",
    "\n",
    "for i in float_type:\n",
    "    drop_outliers_IQR(df,i)"
   ]
  },
  {
   "cell_type": "code",
   "execution_count": null,
   "metadata": {},
   "outputs": [],
   "source": [
    "df.head()"
   ]
  },
  {
   "cell_type": "code",
   "execution_count": null,
   "metadata": {},
   "outputs": [],
   "source": [
    "# Label Encoding all the categorical object using Label Encoder.\n",
    "from sklearn import preprocessing\n",
    "label_encoder = preprocessing.LabelEncoder()\n",
    "\n",
    "print('Applying Label Encoding to only Categorical Data....')\n",
    "for i in object_type:\n",
    "    df[i] = label_encoder.fit_transform(df[i])\n",
    "\n",
    "print('Done!!!')"
   ]
  },
  {
   "cell_type": "markdown",
   "metadata": {},
   "source": [
    "### CREATING A CSV FILE"
   ]
  },
  {
   "cell_type": "code",
   "execution_count": null,
   "metadata": {},
   "outputs": [],
   "source": [
    "df.to_csv('./Test_Output/test_output.csv',index= False)"
   ]
  }
 ],
 "metadata": {
  "kernelspec": {
   "display_name": "Python 3.10.6 64-bit",
   "language": "python",
   "name": "python3"
  },
  "language_info": {
   "codemirror_mode": {
    "name": "ipython",
    "version": 3
   },
   "file_extension": ".py",
   "mimetype": "text/x-python",
   "name": "python",
   "nbconvert_exporter": "python",
   "pygments_lexer": "ipython3",
   "version": "3.10.6"
  },
  "vscode": {
   "interpreter": {
    "hash": "916dbcbb3f70747c44a77c7bcd40155683ae19c65e1c03b4aa3499c5328201f1"
   }
  }
 },
 "nbformat": 4,
 "nbformat_minor": 2
}
